{
 "cells": [
  {
   "cell_type": "code",
   "execution_count": 78,
   "id": "ad5335b7-ed37-4037-a626-51569f2ea09c",
   "metadata": {},
   "outputs": [
    {
     "data": {
      "text/plain": [
       "array([-0.        +0.0000000e+00j,  0.00413556+2.1175824e-22j,\n",
       "       -0.        +0.0000000e+00j,  0.00810569+4.2351647e-22j,\n",
       "       -0.        +0.0000000e+00j,  0.02251582+4.2351647e-22j,\n",
       "       -0.        +0.0000000e+00j,  0.20264237+1.6940659e-21j,\n",
       "        0.5       +0.0000000e+00j,  0.20264237+1.6940659e-21j,\n",
       "       -0.        +0.0000000e+00j,  0.02251582+4.2351647e-22j,\n",
       "       -0.        +0.0000000e+00j,  0.00810569+4.2351647e-22j,\n",
       "       -0.        +0.0000000e+00j,  0.00413556+2.1175824e-22j,\n",
       "       -0.        +0.0000000e+00j], dtype=complex64)"
      ]
     },
     "execution_count": 78,
     "metadata": {},
     "output_type": "execute_result"
    }
   ],
   "source": [
    "import sympy as sp\n",
    "from sympy import I\n",
    "\n",
    "T = 2 # period of triangular wave\n",
    "t = sp.symbols('t')\n",
    "# piecewise for 8 <= t <= 8\n",
    "x = sp.Piecewise(\n",
    "                (-7 - t, (-8 <= t) & (t < -7)),\n",
    "                (t + 7, (-7 <= t) & (t < -6)),\n",
    "                (-5 - t, (-6 <= t) & (t < -5)),\n",
    "                (t + 5, (-5 <= t) & (t < -4)),\n",
    "                (-3 - t, (-4 <= t) & (t < -3)),\n",
    "                (t + 3, (-3 <= t) & (t < -2)),\n",
    "                (-1 - t, (-2 <= t) & (t < -1)),\n",
    "                (t + 1, (-1 <= t) & (t < 0)),\n",
    "                (1 - t, (0 <= t) & (t < 1)),\n",
    "                (t - 1, (1 <= t) & (t < 2)),\n",
    "                (3 - t, (2 <= t) & (t < 3)),\n",
    "                (t - 3, (3 <= t) & (t < 4)),\n",
    "                (5 - t, (4 <= t) & (t < 5)),\n",
    "                (t - 5, (5 <= t) & (t < 6)),\n",
    "                (7 - t, (6 <= t) & (t < 7)),\n",
    "                (t - 7, (7 <= t) & (t <= 8)),\n",
    "                (0, True)\n",
    "                )  \n",
    "# sp.plot(x, (t, -8, 8))\n",
    "Ts, k, w0 = sp.symbols('Ts k w0')\n",
    "w0 = 2*sp.pi/Ts\n",
    "expt = sp.exp(-I*k*w0*t)\n",
    "cke = 1/Ts*sp.integrate(x*expt, (t, -Ts/2, Ts/2))\n",
    "# substitute T in place of Ts\n",
    "ck = cke.subs(Ts,T).doit()\n",
    "\n",
    "# as per the example code\n",
    "kv = np.arange(-8,9)\n",
    "ckvs = np.zeros(kv.shape, dtype=np.complex64)\n",
    "for i in range(len(kv)):\n",
    "    ckvs[i] = ck.subs({k:kv[i]}).evalf()\n",
    "ckvs"
   ]
  },
  {
   "cell_type": "code",
   "execution_count": null,
   "id": "4526b126-11c6-4a00-83a9-d735b2ef008e",
   "metadata": {},
   "outputs": [],
   "source": []
  }
 ],
 "metadata": {
  "kernelspec": {
   "display_name": "Python 3 (ipykernel)",
   "language": "python",
   "name": "python3"
  },
  "language_info": {
   "codemirror_mode": {
    "name": "ipython",
    "version": 3
   },
   "file_extension": ".py",
   "mimetype": "text/x-python",
   "name": "python",
   "nbconvert_exporter": "python",
   "pygments_lexer": "ipython3",
   "version": "3.12.4"
  }
 },
 "nbformat": 4,
 "nbformat_minor": 5
}
